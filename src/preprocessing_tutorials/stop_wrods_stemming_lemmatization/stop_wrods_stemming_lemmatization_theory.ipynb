{
 "cells": [
  {
   "cell_type": "markdown",
   "metadata": {},
   "source": [
    "Stop Words\n",
    "==========\n",
    "Stop words are the extremely common words which have a little value in\n",
    "helping to solve a certain task. These words are filtered out before applying\n",
    "any ML algorithms.\n",
    "\n",
    "Though stop words usually refer to the most common words in a language,\n",
    "there is no single universal list of stop words used by all NLP tools.\n",
    "\n",
    "The general strategy for determining a stop list is to sort the terms\n",
    "by collection frequency (the total number of times each term appears in the\n",
    "document collection), and then to take the most frequent terms, often\n",
    "hand-filtered for their semantic content relative to the domain of the\n",
    "documents being indexed, as a stop list , the members of which are then\n",
    "discarded during indexing.\n",
    "\n",
    "\n",
    "Stemming\n",
    "=========\n",
    "Stemming is a process of converting the inflected words to their base\n",
    "form. Stemming programs are commonly referred to as stemming\n",
    "algorithms or stemmers.\n",
    "\n",
    "The most popular stemming algorithm for English language is\n",
    "Porter’s stemmer. Examples:\n",
    "\n",
    "* “analysis” -> “analysi”\n",
    "* “features” -> “featur”\n",
    "* “visible” -> “visibl”\n",
    "* “variations” -> “variat”\n",
    "* “expression” -> “express”\n",
    "\n",
    "\n",
    "Lemmatizatization\n",
    "==================\n",
    "Lemmatizatization is a process of converting the words to their\n",
    "dictionary form. Examples:\n",
    "\n",
    "* “better” -> “good”\n",
    "* “amusement” -> “amuse”\n",
    "* “features” -> “feature”\n",
    "* “expression” -> “expression”\n",
    "* “visible” -> “visible”\n",
    "\n",
    "Pros:\n",
    "* provides a valid dictionary form of a word\n",
    "\n",
    "Cons:\n",
    "* requires the part of speech of a word\n",
    "* slower than stemming"
   ]
  },
  {
   "cell_type": "code",
   "execution_count": null,
   "metadata": {
    "collapsed": true
   },
   "outputs": [],
   "source": []
  }
 ],
 "metadata": {
  "kernelspec": {
   "display_name": "Python [testenv]",
   "language": "python",
   "name": "Python [testenv]"
  },
  "language_info": {
   "codemirror_mode": {
    "name": "ipython",
    "version": 3
   },
   "file_extension": ".py",
   "mimetype": "text/x-python",
   "name": "python",
   "nbconvert_exporter": "python",
   "pygments_lexer": "ipython3",
   "version": "3.5.2"
  }
 },
 "nbformat": 4,
 "nbformat_minor": 0
}
