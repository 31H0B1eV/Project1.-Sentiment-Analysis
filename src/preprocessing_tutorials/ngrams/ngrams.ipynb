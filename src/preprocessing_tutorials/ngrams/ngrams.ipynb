{
 "cells": [
  {
   "cell_type": "markdown",
   "metadata": {},
   "source": [
    "# Ngram Tutorial \n",
    "N-gram is a contiguous sequence of n items from a given sequence of text or speech. The items can be phonemes, syllables, letters, words or base pairs according to the application. The n-grams typically are collected from a text or speech corpus.\n",
    "\n",
    "An n-gram of size 1 is referred to as a \"unigram\"; size 2 is a \"bigram\" (or, less commonly, a \"digram\"); size 3 is a \"trigram\". Larger sizes are sometimes referred to by the value of n, e.g., \"four-gram\", \"five-gram\", and so on. (Source: [Wikipedia](https://en.wikipedia.org/wiki/N-gram))\n",
    "\n",
    "### Pros:\n",
    "* Simplicity and scalability\n",
    "* Useful for many applications\n",
    "* Well understood math\n",
    "\n",
    "### Cons:\n",
    "* Do not capture non-local dependencies\n",
    "* Lack any explicit representation of long range dependency"
   ]
  },
  {
   "cell_type": "markdown",
   "metadata": {},
   "source": [
    "### 1. Sklearn implementation \n",
    "Source: [stackoverflow](http://stackoverflow.com/a/26891673/7338277)"
   ]
  },
  {
   "cell_type": "code",
   "execution_count": 79,
   "metadata": {
    "collapsed": false
   },
   "outputs": [
    {
     "data": {
      "text/plain": [
       "{'about': 3,\n",
       " 'about ngrams': 1,\n",
       " 'about stuff': 1,\n",
       " 'about text': 1,\n",
       " 'are': 1,\n",
       " 'are handy': 1,\n",
       " 'grams': 1,\n",
       " 'grams are': 1,\n",
       " 'handy': 1,\n",
       " 'ngrams': 1,\n",
       " 'stuff': 2,\n",
       " 'stuff about': 1,\n",
       " 'text': 3,\n",
       " 'text about': 2}"
      ]
     },
     "execution_count": 79,
     "metadata": {},
     "output_type": "execute_result"
    }
   ],
   "source": [
    "import numpy as np\n",
    "from sklearn.feature_extraction.text import CountVectorizer\n",
    "\n",
    "a = 'text about stuff'\n",
    "b = 'stuff about text'\n",
    "c = 'text about ngrams'\n",
    "d = 'n-grams are handy'\n",
    "document = [a, b, c, d]\n",
    "\n",
    "vectorizer = CountVectorizer(ngram_range=(1, 2))\n",
    "X = vectorizer.fit_transform(document)\n",
    "\n",
    "# Creating a dictionary from term to frequency\n",
    "terms = vectorizer.get_feature_names()\n",
    "freqs = X.sum(axis=0).A1\n",
    "result = dict(zip(terms, freqs))\n",
    "\n",
    "result"
   ]
  },
  {
   "cell_type": "code",
   "execution_count": 80,
   "metadata": {
    "collapsed": false
   },
   "outputs": [
    {
     "name": "stdout",
     "output_type": "stream",
     "text": [
      "[['about' 'about ngrams' 'about stuff' 'about text' 'are' 'are handy'\n",
      "  'grams' 'grams are' 'handy' 'ngrams' 'stuff' 'stuff about' 'text'\n",
      "  'text about']\n",
      " ['3' '1' '1' '1' '1' '1' '1' '1' '1' '1' '2' '1' '3' '2']]\n"
     ]
    }
   ],
   "source": [
    "matrix_terms = np.array(vectorizer.get_feature_names())\n",
    "\n",
    "# Using the axis keyword to sum over rows\n",
    "matrix_freq = np.asarray(X.sum(axis=0)).ravel()\n",
    "final_matrix = np.array([matrix_terms,matrix_freq])\n",
    "\n",
    "print(final_matrix)"
   ]
  },
  {
   "cell_type": "markdown",
   "metadata": {},
   "source": [
    "### 2. NLTK implementation \n",
    "Source: [stackoverflow](http://stackoverflow.com/a/17547860/7338277)"
   ]
  },
  {
   "cell_type": "code",
   "execution_count": 94,
   "metadata": {
    "collapsed": false
   },
   "outputs": [
    {
     "name": "stdout",
     "output_type": "stream",
     "text": [
      "('this', 'is')\n",
      "('is', 'a')\n",
      "('a', 'foo')\n",
      "('foo', 'bar')\n",
      "('bar', 'sentences')\n",
      "('sentences', 'and')\n",
      "('and', 'i')\n",
      "('i', 'want')\n",
      "('want', 'to')\n",
      "('to', 'ngramize')\n",
      "('ngramize', 'it')\n"
     ]
    }
   ],
   "source": [
    "from nltk import bigrams\n",
    "sentence = 'this is a foo bar sentences and i want to ngramize it'\n",
    "\n",
    "grams = bigrams(sentence.split())\n",
    "for gram in grams:\n",
    "    print(gram)"
   ]
  }
 ],
 "metadata": {
  "anaconda-cloud": {},
  "kernelspec": {
   "display_name": "Python [conda env:py35]",
   "language": "python",
   "name": "conda-env-py35-py"
  },
  "language_info": {
   "codemirror_mode": {
    "name": "ipython",
    "version": 3
   },
   "file_extension": ".py",
   "mimetype": "text/x-python",
   "name": "python",
   "nbconvert_exporter": "python",
   "pygments_lexer": "ipython3",
   "version": "3.5.2"
  }
 },
 "nbformat": 4,
 "nbformat_minor": 1
}
