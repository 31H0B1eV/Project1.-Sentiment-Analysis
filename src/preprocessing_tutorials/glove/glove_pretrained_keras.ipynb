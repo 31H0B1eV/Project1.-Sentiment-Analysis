{
 "cells": [
  {
   "cell_type": "markdown",
   "metadata": {},
   "source": [
    "# Using pre-trained GloVe word embeddings with Keras"
   ]
  },
  {
   "cell_type": "markdown",
   "metadata": {},
   "source": [
    "Main source: https://blog.keras.io/using-pre-trained-word-embeddings-in-a-keras-model.html\n",
    "\n",
    "Dataset: RottenTomatoes (https://www.rottentomatoes.com),\tMovies, 102k reviews, English, https://www.dropbox.com/s/ag4r8w9iafuhn6w/reviews_rt_all.csv?dl=0\t\t\t\t\t\t\t\t\t\t\t\t\t\t\t\t\t\t\t\t"
   ]
  },
  {
   "cell_type": "markdown",
   "metadata": {},
   "source": [
    "### Import necessary libraries"
   ]
  },
  {
   "cell_type": "code",
   "execution_count": 1,
   "metadata": {
    "collapsed": false
   },
   "outputs": [
    {
     "name": "stderr",
     "output_type": "stream",
     "text": [
      "Using TensorFlow backend.\n"
     ]
    }
   ],
   "source": [
    "import os\n",
    "import numpy as np\n",
    "from keras.preprocessing.text import Tokenizer\n",
    "from keras.preprocessing.sequence import pad_sequences\n",
    "from keras.utils.np_utils import to_categorical"
   ]
  },
  {
   "cell_type": "markdown",
   "metadata": {},
   "source": [
    "### Initialize data folders"
   ]
  },
  {
   "cell_type": "code",
   "execution_count": 2,
   "metadata": {
    "collapsed": true
   },
   "outputs": [],
   "source": [
    "BASE_DIR = ''\n",
    "GLOVE_DIR = BASE_DIR + 'glove.6B/' # http://nlp.stanford.edu/projects/glove/ pretrained vectors\n",
    "TEXT_DATA_DIR = '../data/'\n",
    "HEADER = True"
   ]
  },
  {
   "cell_type": "markdown",
   "metadata": {},
   "source": [
    "### Loading data"
   ]
  },
  {
   "cell_type": "code",
   "execution_count": 3,
   "metadata": {
    "collapsed": false
   },
   "outputs": [],
   "source": [
    "X = []\n",
    "y = []\n",
    "with open(os.path.join(TEXT_DATA_DIR, \"reviews_rt_all.csv\"), \"r\") as f:\n",
    "    if HEADER:\n",
    "        header = next(f)\n",
    "    for line in f:\n",
    "        temp_y, temp_x = line.rstrip(\"\\n\").split(\"|\")\n",
    "        X.append(temp_x)\n",
    "        y.append(temp_y)"
   ]
  },
  {
   "cell_type": "markdown",
   "metadata": {},
   "source": [
    "### Set parameters"
   ]
  },
  {
   "cell_type": "code",
   "execution_count": 4,
   "metadata": {
    "collapsed": true
   },
   "outputs": [],
   "source": [
    "MAX_NB_WORDS = 20000\n",
    "EMBEDDING_DIM = 100\n",
    "MAX_SEQUENCE_LENGTH = 1000"
   ]
  },
  {
   "cell_type": "markdown",
   "metadata": {},
   "source": [
    "### Tokenize text"
   ]
  },
  {
   "cell_type": "code",
   "execution_count": 5,
   "metadata": {
    "collapsed": false
   },
   "outputs": [
    {
     "name": "stdout",
     "output_type": "stream",
     "text": [
      "Found 61876 unique tokens.\n",
      "Shape of data tensor: (102610, 1000)\n",
      "Shape of label tensor: (102610, 2)\n"
     ]
    }
   ],
   "source": [
    "tokenizer = Tokenizer(nb_words=MAX_NB_WORDS) # create dictionary of MAX_NB_WORDS, other words will not be used\n",
    "tokenizer.fit_on_texts(X)\n",
    "sequences = tokenizer.texts_to_sequences(X) # transform words to its indexes\n",
    "\n",
    "word_index = tokenizer.word_index # dictionary of word:index\n",
    "print('Found %s unique tokens.' % len(word_index))\n",
    "\n",
    "data = pad_sequences(sequences, maxlen=MAX_SEQUENCE_LENGTH) # transform a list to numpy array with shape (nb_samples, MAX_SEQUENCE_LENGTH)\n",
    "                                                            # be careful because it takes only last MAX_SEQUENCE_LENGTH words\n",
    "                                                            \n",
    "labels = to_categorical(np.asarray(y))\n",
    "print('Shape of data tensor:', data.shape)\n",
    "print('Shape of label tensor:', labels.shape)"
   ]
  },
  {
   "cell_type": "markdown",
   "metadata": {},
   "source": [
    "### Indexing word vectors"
   ]
  },
  {
   "cell_type": "code",
   "execution_count": 6,
   "metadata": {
    "collapsed": false
   },
   "outputs": [],
   "source": [
    "embeddings_index = {}\n",
    "f = open(os.path.join(GLOVE_DIR, 'glove.6B.100d.txt'))\n",
    "for line in f:\n",
    "    values = line.split()\n",
    "    word = values[0]\n",
    "    coefs = np.asarray(values[1:], dtype='float32')\n",
    "    embeddings_index[word] = coefs\n",
    "f.close()"
   ]
  },
  {
   "cell_type": "markdown",
   "metadata": {},
   "source": [
    "### Glove word-embeddings repressentation"
   ]
  },
  {
   "cell_type": "code",
   "execution_count": 7,
   "metadata": {
    "collapsed": false
   },
   "outputs": [
    {
     "name": "stdout",
     "output_type": "stream",
     "text": [
      "Look at some words: \n",
      "\n",
      "good: [-0.030769    0.11993     0.53908998 -0.43696001 -0.73936999 -0.15345\n",
      "  0.081126   -0.38558999 -0.68796998 -0.41632    -0.13183001 -0.24922\n",
      "  0.44100001  0.085919    0.20871    -0.063582    0.062228   -0.051234\n",
      " -0.13398001  1.14180005  0.036526    0.49028999 -0.24567001 -0.412\n",
      "  0.12349     0.41336    -0.48396999 -0.54242998 -0.27787    -0.26014999\n",
      " -0.38485     0.78656     0.1023     -0.20712     0.40751001  0.32025999\n",
      " -0.51051998  0.48361999 -0.0099498  -0.38685     0.034975   -0.167       0.4237\n",
      " -0.54163998 -0.30322999 -0.36983001  0.082836   -0.52538002 -0.064531\n",
      " -1.398      -0.14872999 -0.35326999 -0.1118      1.09119999  0.095864\n",
      " -2.81290007  0.45238     0.46213001  1.60119998 -0.20837    -0.27377\n",
      "  0.71196997 -1.07539999 -0.046974    0.67479002 -0.065839    0.75823998\n",
      "  0.39405     0.15507001 -0.64718997  0.32796001 -0.031748    0.52898997\n",
      " -0.43886     0.67404997  0.42135999 -0.11981    -0.21777    -0.29756001\n",
      " -0.13510001  0.59898001  0.46529001 -0.58257997 -0.02323    -1.54419994\n",
      "  0.01901    -0.015877    0.024499   -0.58016998 -0.67659003 -0.040379\n",
      " -0.44042999  0.083292    0.20035    -0.75498998  0.16918001 -0.26572999\n",
      " -0.52877998  0.17584001  1.06500006]\n",
      "bad: [ 0.39456001 -0.24717     1.03190005 -0.61444002 -1.23759997  0.051794\n",
      " -0.55111998 -0.31014001 -0.025735   -0.24709     0.25836     0.34898999\n",
      "  0.46176001  0.44237     0.354       0.21262001 -0.26312    -0.17128\n",
      "  0.44013     1.12839997  0.37259001  0.41969001 -0.2534     -0.051885\n",
      " -0.34917     0.15298    -0.68444002 -0.19514    -0.018647    0.084191\n",
      "  0.14568999  0.38690001  0.023524   -0.37860999 -0.65081     0.010398\n",
      " -0.50086999 -0.087368    0.098617   -0.21907    -0.072412   -0.10247\n",
      " -0.31479999 -0.30700001 -0.30456999 -0.14329     0.10313    -0.040487\n",
      " -0.095922   -1.19200003 -0.063356    0.034127   -0.057674    0.56581998\n",
      "  0.082541   -2.46169996  0.48029     0.72806001  1.28410006  0.10672\n",
      " -0.045119    1.01170003 -0.97927999  0.022828    0.46876001 -0.026875\n",
      "  0.80018002 -0.23101     0.086699   -0.74338001 -0.38738    -0.19239999\n",
      " -0.13292     0.52346998  0.35659     0.21065    -0.18669     0.41563001\n",
      " -0.50874001  0.47643     0.78591001  0.28015    -0.74564999 -0.015569\n",
      " -1.84510005 -0.28426999 -0.81721997 -0.43254    -0.60031003 -0.40052\n",
      " -0.26611999 -0.05855    -0.2051      0.16208    -0.25305     0.48163\n",
      " -0.15905     0.0064973   0.13793001 -0.06832   ]\n"
     ]
    }
   ],
   "source": [
    "len(embeddings_index)\n",
    "print(\"Look at some words: \\n\")\n",
    "print(\"good:\", embeddings_index[\"good\"])\n",
    "print(\"bad:\", embeddings_index[\"bad\"])"
   ]
  },
  {
   "cell_type": "markdown",
   "metadata": {},
   "source": [
    "### Preparing embedding matrix"
   ]
  },
  {
   "cell_type": "code",
   "execution_count": 8,
   "metadata": {
    "collapsed": true
   },
   "outputs": [],
   "source": [
    "# prepare embedding matrix\n",
    "nb_words = min(MAX_NB_WORDS, len(word_index))\n",
    "embedding_matrix = np.zeros((nb_words, EMBEDDING_DIM))\n",
    "for word, i in word_index.items():\n",
    "    if i >= MAX_NB_WORDS:\n",
    "        continue\n",
    "    embedding_vector = embeddings_index.get(word)\n",
    "    if embedding_vector is not None:\n",
    "        # words not found in embedding index will be all-zeros.\n",
    "        embedding_matrix[i] = embedding_vector"
   ]
  }
 ],
 "metadata": {
  "anaconda-cloud": {},
  "kernelspec": {
   "display_name": "Python 3",
   "language": "python",
   "name": "python3"
  },
  "language_info": {
   "codemirror_mode": {
    "name": "ipython",
    "version": 3
   },
   "file_extension": ".py",
   "mimetype": "text/x-python",
   "name": "python",
   "nbconvert_exporter": "python",
   "pygments_lexer": "ipython3",
   "version": "3.5.2"
  }
 },
 "nbformat": 4,
 "nbformat_minor": 1
}
